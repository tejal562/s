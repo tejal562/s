{
  "nbformat": 4,
  "nbformat_minor": 0,
  "metadata": {
    "colab": {
      "name": "Hindi_POS_Tagging.ipynb",
      "provenance": [],
      "collapsed_sections": [],
      "include_colab_link": true
    },
    "language_info": {
      "codemirror_mode": {
        "name": "ipython",
        "version": 3
      },
      "file_extension": ".py",
      "mimetype": "text/x-python",
      "name": "python",
      "nbconvert_exporter": "python",
      "pygments_lexer": "ipython3",
      "version": "3.7.0"
    },
    "kernelspec": {
      "display_name": "Python 3",
      "language": "python",
      "name": "python3"
    }
  },
  "cells": [
    {
      "cell_type": "markdown",
      "metadata": {
        "id": "view-in-github",
        "colab_type": "text"
      },
      "source": [
        "<a href=\"https://colab.research.google.com/github/tejal562/s/blob/main/Hindi_POS_Tagging.ipynb\" target=\"_parent\"><img src=\"https://colab.research.google.com/assets/colab-badge.svg\" alt=\"Open In Colab\"/></a>"
      ]
    },
    {
      "metadata": {
        "id": "4iiGjl-p12Rx",
        "colab": {
          "base_uri": "https://localhost:8080/"
        },
        "outputId": "b3a6e872-0ca7-42ae-ece5-fdb1f2c8c4db"
      },
      "cell_type": "code",
      "source": [
        "from nltk.tag import tnt\n",
        "from nltk.corpus import indian\n",
        "import nltk\n",
        "import pandas as pd\n",
        "import numpy as np\n",
        "nltk.download('punkt') \n",
        "nltk.download('indian')"
      ],
      "execution_count": null,
      "outputs": [
        {
          "output_type": "stream",
          "name": "stdout",
          "text": [
            "[nltk_data] Downloading package punkt to /root/nltk_data...\n",
            "[nltk_data]   Unzipping tokenizers/punkt.zip.\n",
            "[nltk_data] Downloading package indian to /root/nltk_data...\n",
            "[nltk_data]   Unzipping corpora/indian.zip.\n"
          ]
        },
        {
          "output_type": "execute_result",
          "data": {
            "text/plain": [
              "True"
            ]
          },
          "metadata": {},
          "execution_count": 6
        }
      ]
    },
    {
      "metadata": {
        "id": "GkSVProP12R2"
      },
      "cell_type": "code",
      "source": [
        "\n",
        "text = \"इराक के विदेश मंत्री ने अमरीका के उस प्रस्ताव का मजाक उड़ाया है , जिसमें अमरीका ने संयुक्त राष्ट्र के प्रतिबंधों को इराकी नागरिकों के लिए कम हानिकारक बनाने के लिए कहा है ।\" #\"मेरा नाम वैभव है\""
      ],
      "execution_count": null,
      "outputs": []
    },
    {
      "metadata": {
        "id": "NBrKjqZu12R6"
      },
      "cell_type": "code",
      "source": [
        "def hindi_model():\n",
        "    train_data = indian.tagged_sents('hindi.pos')\n",
        "    tnt_pos_tagger = tnt.TnT()\n",
        "    tnt_pos_tagger.train(train_data)\n",
        "    return tnt_pos_tagger"
      ],
      "execution_count": null,
      "outputs": []
    },
    {
      "metadata": {
        "id": "-WmmxMeD12R9",
        "outputId": "ab0b131f-a9ac-47a2-937f-d408aac91d92",
        "colab": {
          "base_uri": "https://localhost:8080/"
        }
      },
      "cell_type": "code",
      "source": [
        "print(nltk.word_tokenize(text))"
      ],
      "execution_count": null,
      "outputs": [
        {
          "output_type": "stream",
          "name": "stdout",
          "text": [
            "['इराक', 'के', 'विदेश', 'मंत्री', 'ने', 'अमरीका', 'के', 'उस', 'प्रस्ताव', 'का', 'मजाक', 'उड़ाया', 'है', ',', 'जिसमें', 'अमरीका', 'ने', 'संयुक्त', 'राष्ट्र', 'के', 'प्रतिबंधों', 'को', 'इराकी', 'नागरिकों', 'के', 'लिए', 'कम', 'हानिकारक', 'बनाने', 'के', 'लिए', 'कहा', 'है', '।']\n"
          ]
        }
      ]
    },
    {
      "metadata": {
        "id": "3cDRKU9y12SD",
        "outputId": "6b624416-1a60-49b7-8a50-2b1e52a5721f",
        "colab": {
          "base_uri": "https://localhost:8080/"
        }
      },
      "cell_type": "code",
      "source": [
        "model = hindi_model()\n",
        "new_tagged = (model.tag(nltk.word_tokenize(text)))\n",
        "#print(new_tagged)\n",
        "array=np.array(new_tagged)\n",
        "for i in array:\n",
        "    print(i[0],\" ==> \", i[1],\" \")"
      ],
      "execution_count": null,
      "outputs": [
        {
          "output_type": "stream",
          "name": "stdout",
          "text": [
            "इराक  ==>  NNP  \n",
            "के  ==>  PREP  \n",
            "विदेश  ==>  NNC  \n",
            "मंत्री  ==>  NN  \n",
            "ने  ==>  PREP  \n",
            "अमरीका  ==>  NNP  \n",
            "के  ==>  PREP  \n",
            "उस  ==>  PRP  \n",
            "प्रस्ताव  ==>  NN  \n",
            "का  ==>  PREP  \n",
            "मजाक  ==>  NVB  \n",
            "उड़ाया  ==>  VFM  \n",
            "है  ==>  VAUX  \n",
            ",  ==>  PUNC  \n",
            "जिसमें  ==>  PRP  \n",
            "अमरीका  ==>  NNP  \n",
            "ने  ==>  PREP  \n",
            "संयुक्त  ==>  NNC  \n",
            "राष्ट्र  ==>  NN  \n",
            "के  ==>  PREP  \n",
            "प्रतिबंधों  ==>  NN  \n",
            "को  ==>  PREP  \n",
            "इराकी  ==>  JJ  \n",
            "नागरिकों  ==>  NN  \n",
            "के  ==>  PREP  \n",
            "लिए  ==>  PREP  \n",
            "कम  ==>  INTF  \n",
            "हानिकारक  ==>  JJ  \n",
            "बनाने  ==>  VNN  \n",
            "के  ==>  PREP  \n",
            "लिए  ==>  PREP  \n",
            "कहा  ==>  VFM  \n",
            "है  ==>  VAUX  \n",
            "।  ==>  PUNC  \n"
          ]
        }
      ]
    },
    {
      "metadata": {
        "id": "VfZf68Zr12SI"
      },
      "cell_type": "code",
      "source": [
        "with open(\"output.txt\",\"a\") as output_file:\n",
        "    output_file.write(\"\\n[INPUT]\\n\")\n",
        "    output_file.write(text)\n",
        "    output_file.write(\"\\n[OUTPUT]\\n\")\n",
        "    output_file.write(str(new_tagged))"
      ],
      "execution_count": null,
      "outputs": []
    },
    {
      "metadata": {
        "id": "cHCev7Mm2sb7",
        "outputId": "8e9174a5-d00b-492d-95fa-83f95d907433",
        "colab": {
          "base_uri": "https://localhost:8080/",
          "height": 201
        }
      },
      "cell_type": "code",
      "source": [
        "!cat output.txt"
      ],
      "execution_count": null,
      "outputs": [
        {
          "output_type": "stream",
          "text": [
            "\n",
            "[INPUT]\n",
            "इराक के विदेश मंत्री ने अमरीका के उस प्रस्ताव का मजाक उड़ाया है , जिसमें अमरीका ने संयुक्त राष्ट्र के प्रतिबंधों को इराकी नागरिकों के लिए कम हानिकारक बनाने के लिए कहा है ।\n",
            "[OUTPUT]\n",
            "[('इराक', 'NNP'), ('के', 'PREP'), ('विदेश', 'NNC'), ('मंत्री', 'NN'), ('ने', 'PREP'), ('अमरीका', 'NNP'), ('के', 'PREP'), ('उस', 'PRP'), ('प्रस्ताव', 'NN'), ('का', 'PREP'), ('मजाक', 'NVB'), ('उड़ाया', 'VFM'), ('है', 'VAUX'), (',', 'PUNC'), ('जिसमें', 'PRP'), ('अमरीका', 'NNP'), ('ने', 'PREP'), ('संयुक्त', 'NNC'), ('राष्ट्र', 'NN'), ('के', 'PREP'), ('प्रतिबंधों', 'NN'), ('को', 'PREP'), ('इराकी', 'JJ'), ('नागरिकों', 'NN'), ('के', 'PREP'), ('लिए', 'PREP'), ('कम', 'INTF'), ('हानिकारक', 'JJ'), ('बनाने', 'VNN'), ('के', 'PREP'), ('लिए', 'PREP'), ('कहा', 'VFM'), ('है', 'VAUX'), ('।', 'PUNC')]\n",
            "[INPUT]\n",
            "इराक के विदेश मंत्री ने अमरीका के उस प्रस्ताव का मजाक उड़ाया है , जिसमें अमरीका ने संयुक्त राष्ट्र के प्रतिबंधों को इराकी नागरिकों के लिए कम हानिकारक बनाने के लिए कहा है ।\n",
            "[OUTPUT]\n",
            "[('इराक', 'NNP'), ('के', 'PREP'), ('विदेश', 'NNC'), ('मंत्री', 'NN'), ('ने', 'PREP'), ('अमरीका', 'NNP'), ('के', 'PREP'), ('उस', 'PRP'), ('प्रस्ताव', 'NN'), ('का', 'PREP'), ('मजाक', 'NVB'), ('उड़ाया', 'VFM'), ('है', 'VAUX'), (',', 'PUNC'), ('जिसमें', 'PRP'), ('अमरीका', 'NNP'), ('ने', 'PREP'), ('संयुक्त', 'NNC'), ('राष्ट्र', 'NN'), ('के', 'PREP'), ('प्रतिबंधों', 'NN'), ('को', 'PREP'), ('इराकी', 'JJ'), ('नागरिकों', 'NN'), ('के', 'PREP'), ('लिए', 'PREP'), ('कम', 'INTF'), ('हानिकारक', 'JJ'), ('बनाने', 'VNN'), ('के', 'PREP'), ('लिए', 'PREP'), ('कहा', 'VFM'), ('है', 'VAUX'), ('।', 'PUNC')]"
          ],
          "name": "stdout"
        }
      ]
    },
    {
      "metadata": {
        "id": "Rknqgx8D2vvA"
      },
      "cell_type": "code",
      "source": [
        ""
      ],
      "execution_count": null,
      "outputs": []
    }
  ]
}